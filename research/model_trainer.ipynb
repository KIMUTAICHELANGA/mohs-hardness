{
 "cells": [
  {
   "cell_type": "code",
   "execution_count": null,
   "metadata": {},
   "outputs": [],
   "source": [
    "import os"
   ]
  },
  {
   "cell_type": "code",
   "execution_count": null,
   "metadata": {},
   "outputs": [],
   "source": [
    "%pwd"
   ]
  },
  {
   "cell_type": "code",
   "execution_count": null,
   "metadata": {},
   "outputs": [],
   "source": [
    "os.chdir('../')"
   ]
  },
  {
   "cell_type": "code",
   "execution_count": null,
   "metadata": {},
   "outputs": [],
   "source": [
    "from dataclasses import dataclasses\n",
    "from pathlib import Path\n",
    "\n",
    "\n",
    "@dataclass(frozen = True)\n",
    "\n",
    "class ModelTrainerConfig:\n",
    "    root_dir: Path = Path.cwd()\n",
    "    train_data_path: Path\n",
    "    test_data_path: Path\n",
    "    model_name: str\n",
    "    max_depth: int\n",
    "    num_leaves : int\n",
    "    min_child_samples: int\n",
    "    learning_rate: float\n",
    "    n_estimators: int\n",
    "    min_child_weight: int\n",
    "    subsample: float\n",
    "    colsample_bytree: float\n",
    "    reg_alpha: float\n",
    "    reg_lambda: float\n",
    "    random_state: int\n",
    "    extra_trees: bool\n",
    "    target_column: str\n",
    "    "
   ]
  },
  {
   "cell_type": "code",
   "execution_count": null,
   "metadata": {},
   "outputs": [],
   "source": [
    "from mlProject.constants import *\n",
    "from mlProject.utils.common import read_yaml,create_directory\n",
    "\n"
   ]
  },
  {
   "cell_type": "code",
   "execution_count": null,
   "metadata": {},
   "outputs": [],
   "source": [
    "class ConfigurationManager:\n",
    "    def__init__(\n",
    "        self,\n",
    "        config_filepath = CONFIG_FILE_PATH,\n",
    "        params_filepath = PARAMS_FILE_PATH,\n",
    "        schema_filepath = SCHEMA_FILE_PATH:\n",
    "\n",
    "        self.config_filepath = config_filepath\n",
    "        self.params_filepath = params_filepath\n",
    "        self.schema_filepath = schema_filepath\n",
    "\n",
    "        create_directory([self.config_filepath, self.params_filepath, self.schema_filepath])\n",
    "    \n",
    "    def get_model_trainer_config(self) -> ModelTrainerConfig:\n",
    "        config=self.config.model_trainer\n",
    "        params=self.params.LGBMRegressor\n",
    "        schema=self.schema.TARGET_COLUMN\n",
    "\n",
    "    \n",
    "     create_directories([config.root_dir])\n",
    "\n",
    "        model_trainer_config = ModelTrainerConfig(\n",
    "            root_dir=config.root_dir,\n",
    "            train_data_path=config.train_data_path,\n",
    "            test_data_path=config.test_data_path,\n",
    "            model_name=config.model_name,\n",
    "            max_depth=params.max_depth,\n",
    "            num_leaves=params.num_leaves,\n",
    "            min_child_samples=params.min_child_samples,\n",
    "            learning_rate=params.learning_rate,\n",
    "            n_estimators=params.n_estimators,\n",
    "            min_child_weight=params.min_child_weight,\n",
    "            subsample=params.subsample,\n",
    "            colsample_bytree=params.colsample_bytree,\n",
    "            reg_alpha=params.reg_alpha,\n",
    "            reg_lambda=params.reg_lambda,\n",
    "            random_state=params.random_state,\n",
    "            extra_trees=params.extra_trees,\n",
    "            target_column=schema.name\n",
    "        )\n",
    "\n",
    "        return model_trainer_config"
   ]
  },
  {
   "cell_type": "code",
   "execution_count": null,
   "metadata": {},
   "outputs": [],
   "source": [
    "class ModelTrainer:\n",
    "    def __init__(self, config: ModelTrainerConfig):\n",
    "        self.config = config\n",
    "\n",
    "    \n",
    "    def train(self):\n",
    "        train_data = pd.read_csv(self.config.train_data_path)\n",
    "        test_data = pd.read_csv(self.config.test_data_path)\n",
    "\n",
    "        X_train = train_data.drop([self.config.target_column], axis=1)\n",
    "        X_test = test_data.drop([self.config.target_column], axis=1)\n",
    "        y_train = train_data[[self.config.target_column]]\n",
    "        y_test = test_data[[self.config.target_column]]\n",
    "\n",
    "        lgbm_reg = LGBMRegressor(max_depth=self.config.max_depth,\n",
    "                                 num_leaves=self.config.num_leaves,\n",
    "                                 min_child_samples=self.config.min_child_samples,\n",
    "                                 learning_rate=self.config.learning_rate,\n",
    "                                 n_estimators=self.config.n_estimators,\n",
    "                                 min_child_weight=self.config.min_child_weight,\n",
    "                                 subsample=self.config.subsample,\n",
    "                                 colsample_bytree=self.config.colsample_bytree,\n",
    "                                 reg_alpha=self.config.reg_alpha,\n",
    "                                 reg_lambda=self.config.reg_lambda,\n",
    "                                 random_state=self.config.random_state,\n",
    "                                 extra_trees=self.config.extra_trees\n",
    "        )\n",
    "\n",
    "        logger.info(\"Training model...\")\n",
    "\n",
    "        lgbm_reg.fit(X_train, y_train)\n",
    "\n",
    "        logger.info(\"Model trained successfully!\")\n",
    "\n",
    "        joblib.dump(lgbm_reg, os.path.join(self.config.root_dir, self.config.model_name))\n",
    "\n",
    "        logger.info(\"Model saved successfully!\")"
   ]
  },
  {
   "cell_type": "code",
   "execution_count": null,
   "metadata": {},
   "outputs": [],
   "source": [
    "try:\n",
    "    config = ConfigurationManager()\n",
    "    model_trainer_config = config.get_model_trainer_config()\n",
    "    model_trainer_config = ModelTrainer(config=model_trainer_config)\n",
    "    model_trainer_config.train()\n",
    "except Exception as e:\n",
    "    raise e"
   ]
  }
 ],
 "metadata": {
  "language_info": {
   "name": "python"
  }
 },
 "nbformat": 4,
 "nbformat_minor": 2
}
