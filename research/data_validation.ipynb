{
 "cells": [
  {
   "cell_type": "code",
   "execution_count": null,
   "metadata": {},
   "outputs": [],
   "source": [
    "import os"
   ]
  },
  {
   "cell_type": "code",
   "execution_count": null,
   "metadata": {},
   "outputs": [],
   "source": [
    "%pwd"
   ]
  },
  {
   "cell_type": "code",
   "execution_count": null,
   "metadata": {},
   "outputs": [],
   "source": [
    "os.chdir(\"../\")"
   ]
  },
  {
   "cell_type": "code",
   "execution_count": null,
   "metadata": {},
   "outputs": [],
   "source": [
    "from dataclasses import dataclass\n",
    "from pathlib import Path\n",
    "\n",
    "@dataclass(frozen =  True)\n",
    "class DataValidationConfig:\n",
    "    raw_data_dir: Path\n",
    "    validation_data_dir: Path\n",
    "    validation_file_name: str\n",
    "    validation_file_path: Path\n",
    "    validation_schema_path: Path\n",
    "    validation_schema_name: str\n",
    "    validation_schema_file_path: Path\n",
    "    "
   ]
  },
  {
   "cell_type": "code",
   "execution_count": null,
   "metadata": {},
   "outputs": [],
   "source": [
    "from mlproject.constants import *\n",
    "from mlproject.utils.common import read_yaml,create_directory"
   ]
  },
  {
   "cell_type": "code",
   "execution_count": null,
   "metadata": {},
   "outputs": [],
   "source": [
    "class ConfigurationManager:\n",
    "    def __init__(self,config:DataValidationConfig):\n",
    "        self.config = config\n",
    "        self.raw_data_dir = config.raw_data_dir\n",
    "        self.validation_data_dir = config.validation_data_dir\n",
    "        self.validation_file_name = config.validation_file_name\n",
    "        self.validation_file_path = config.validation_file_path\n",
    "        self.validation_schema_path = config.validation_schema_path\n",
    "        self.validation_schema_name = config.validation_schema_name\n",
    "        self.validation_schema_file_path = config.validation_schema_file_path\n",
    "\n",
    "    def get_validation_config(self) -> DataValidationConfig:\n",
    "        config = self.config.data_validition\n",
    "        schema = self.schema.COLUMNS\n",
    "\n",
    "        create_directories([config.root_dir])\n",
    "        \n",
    "        data_validation_config = DataValidationConfig(\n",
    "            raw_data_dir = Path(config.raw_data_dir),\n",
    "            validation_data_dir = Path(config.validation_data_dir),\n",
    "            validation_file_name = config.validation_file_name,\n",
    "            validation_file_path = Path(config.validation_file_path),\n",
    "            validation_schema_path = Path(config.validation_schema_path),\n",
    "            validation_schema_name = config.validation_schema_name,\n",
    "            validation_schema_file_path = Path(config.validation_schema_file_path)\n",
    "        )\n",
    "\n",
    "        return data_validation_config\n",
    "\n",
    "\n",
    "    \n",
    "        return self.config"
   ]
  },
  {
   "cell_type": "code",
   "execution_count": null,
   "metadata": {},
   "outputs": [],
   "source": [
    "import os\n",
    "from mlProject import logger\n",
    "import pandas as pd"
   ]
  },
  {
   "cell_type": "code",
   "execution_count": null,
   "metadata": {},
   "outputs": [],
   "source": [
    "class DataValidation:\n",
    "    def __init__(self,config:DataValidationConfig):\n",
    "        self.config = config\n",
    "        self.logger = logger.get_logger(__name__)\n",
    "\n",
    "    def validate_all_columns(self) -> bool:\n",
    "        try: \n",
    "            validation_status = None\n",
    "\n",
    "            data = pd.read_csv(self.config.validation_file_path)\n",
    "            all_cols = list(data.columns)\n",
    "\n",
    "            all_schema = self.config.all_schema.keys()\n",
    "\n",
    "            for col in all_cols:\n",
    "                if col not in all_schema:\n",
    "                    self.logger.error(f\"Column {col} not in schema\")\n",
    "                    validation_status = False\n",
    "                else:\n",
    "                    validation_status = True\n",
    "                    with open (self.config.validation_schema_file_path) as file:\n",
    "                        schema = yaml.safe_load(file)\n",
    "                        for col in all_cols:\n",
    "                            if col not in schema['columns']:\n",
    "                                self.logger.error(f\"Column {col} not in schema\")\n",
    "                                validation_status = False\n",
    "                            else:\n",
    "                                validation_status = True"
   ]
  },
  {
   "cell_type": "code",
   "execution_count": null,
   "metadata": {},
   "outputs": [],
   "source": [
    "try :\n",
    "    config = ConfigurationManager()\n",
    "    data_validation = DataValidation(config.get_validation_config())\n",
    "    data_validation.validate_all_columns()\n",
    "    data_validation.validate_all_columns()\n",
    "except Exception as e:\n",
    "    raise e\n",
    "    "
   ]
  }
 ],
 "metadata": {
  "language_info": {
   "name": "python"
  }
 },
 "nbformat": 4,
 "nbformat_minor": 2
}
