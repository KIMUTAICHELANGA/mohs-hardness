{
 "cells": [
  {
   "cell_type": "code",
   "execution_count": null,
   "metadata": {},
   "outputs": [],
   "source": [
    "import os"
   ]
  },
  {
   "cell_type": "code",
   "execution_count": null,
   "metadata": {},
   "outputs": [],
   "source": [
    "%pwd\n"
   ]
  },
  {
   "cell_type": "code",
   "execution_count": null,
   "metadata": {},
   "outputs": [],
   "source": [
    "from dataclasses import dataclass\n",
    "from pathlib import Path\n",
    "\n",
    "@dataclass(frozen=True)\n",
    "\n",
    "class DataTransformationConfig:\n",
    "    root_dir : Path\n",
    "    data_path: Path"
   ]
  },
  {
   "cell_type": "code",
   "execution_count": null,
   "metadata": {},
   "outputs": [],
   "source": [
    "from mlproject.constants import *\n",
    "from mlProject.utils.common import read_yamn, create_utils\n"
   ]
  },
  {
   "cell_type": "code",
   "execution_count": null,
   "metadata": {},
   "outputs": [],
   "source": [
    "class ConfigurationManager\n",
    "\n",
    "    def __init__(self, config_path: Path):\n",
    "        self.config_path = config_path\n",
    "        self.config = read_yaml(config_path)\n",
    "        self.utils = create_utils(self.config['utils'])\n",
    "        self.data_transformation_config = DataTransformationConfig(\n",
    "            root_dir = Path(self.config['data']['root_dir']),\n",
    "            data_path = Path(self.config['data']['data_path'])\n",
    "        )\n",
    "\n",
    "    def get_data_transformation_config(self) -> DataTransformationConfig:\n",
    "        config = self.config.data_transformation\n",
    "\n",
    "        create_directories([config['root_dir']])\n",
    "        data_transformation_config = DataTransformationConfig(\n",
    "            root_dir = Path(config['root_dir']),\n",
    "            data_path = Path(config['data_path'])\n",
    "        )\n",
    "\n",
    "        return data_transformation_config"
   ]
  },
  {
   "cell_type": "code",
   "execution_count": null,
   "metadata": {},
   "outputs": [],
   "source": [
    "from mlproject import logger\n",
    "from mlprojects.components.data_cleaning import (\n",
    "    FeatureEngineering,FixOutliers,DataPreprocessing)\n",
    "\n",
    "import pandas as pd\n",
    "from sklearn.model_selection import train_test_split\n",
    "from sklearn.pipeline import Pipeline"
   ]
  },
  {
   "cell_type": "code",
   "execution_count": null,
   "metadata": {},
   "outputs": [],
   "source": [
    "class DataTransformationManager:\n",
    "    def __init__(self, data_transformation_config: DataTransformationConfig):\n",
    "        self.data_transformation_config = data_transformation_config\n",
    "\n",
    "    def data_transformation_pipeline(self):\n",
    "\n",
    "        try:\n",
    "            pipeline = Pipeline([\n",
    "                ('data_preprocessing', DataPreprocessing()),\n",
    "                ('feature_engineering', FeatureEngineering()),\n",
    "                ('fix_outliers', FixOutliers())\n",
    "            ])\n",
    "\n",
    "            return pipeline\n",
    "        except Exception as e:\n",
    "            logger.error(f'Error in data transformation pipeline: {e}')\n",
    "            raise e\n",
    "\n",
    "    def transform_split_data(self):\n",
    "\n",
    "        data = pd.read_csv(self.data_transformation_config.data_path)\n",
    "        pipeline =      self.data_transformation_pipeline()\n",
    "\n",
    "        processed_data = pipeline.fit_transform(data)   \n",
    "        train,test = train_test_split(processed_data, test_size=0.2, random_state=42)\n",
    "\n",
    "        train.to_csv(self.data_transformation_config.root_dir / 'train.csv', index=False)\n",
    "        test.to_csv(self.data_transformation_config.root_dir / 'test.csv', index=False)\n",
    "\n",
    "        logger.info('Data transformation and split completed successfully')\n",
    "        logger.info(f'Train data shape: {train.shape}')\n",
    "        logger.info(f'Test data shape: {test.shape}')\n",
    "\n",
    "        print(train.shape, test.shape)\n"
   ]
  },
  {
   "cell_type": "code",
   "execution_count": null,
   "metadata": {},
   "outputs": [],
   "source": [
    "try:\n",
    "    config = ConfigurationManager()\n",
    "    data_transformation_config = config.get_data_transformation_config()\n",
    "    data_transformation_manager = DataTransformationManager(data_transformation_config)\n",
    "    data_transformation_manager.transform_split_data()\n",
    "\n",
    "    except Exception as e:\n",
    "        logger.error(f'Error in data transformation: {e}')\n",
    "        raise e"
   ]
  }
 ],
 "metadata": {
  "language_info": {
   "name": "python"
  }
 },
 "nbformat": 4,
 "nbformat_minor": 2
}
