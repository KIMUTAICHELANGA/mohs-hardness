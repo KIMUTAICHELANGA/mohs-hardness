{
 "cells": [
  {
   "cell_type": "code",
   "execution_count": 1,
   "metadata": {},
   "outputs": [],
   "source": [
    "import os "
   ]
  },
  {
   "cell_type": "code",
   "execution_count": null,
   "metadata": {},
   "outputs": [],
   "source": [
    "%pwd"
   ]
  },
  {
   "cell_type": "code",
   "execution_count": null,
   "metadata": {},
   "outputs": [],
   "source": [
    "from dataclasses import dataclass\n",
    "from pathib import Path\n",
    "\n",
    "@dataclass(frozen = True)\n",
    "class DataIngestionConfig :\n",
    "    root_dir : Path\n",
    "    source_dir : str\n",
    "    local_data_file: Path\n",
    "    uzir: Path\n",
    "    "
   ]
  },
  {
   "cell_type": "code",
   "execution_count": null,
   "metadata": {},
   "outputs": [],
   "source": [
    "from mlProject.constants import *\n",
    "from mlProject.utils.common import read_yaml, create_directory"
   ]
  },
  {
   "cell_type": "code",
   "execution_count": null,
   "metadata": {},
   "outputs": [],
   "source": [
    "class ConfigurationManager :\n",
    "    def__init__(\n",
    "        self,\n",
    "        config_file_path: CONFIG_FILE_PATH,\n",
    "        params_file_path:PARAMS_FILE_PATH,\n",
    "        schema_file_path:SCHEMA_FILE_PATH\n",
    "    ):\n",
    "\n",
    "    self.config = read_yaml(config_file_path)\n",
    "    self.params = read_yaml(params_file_path)\n",
    "    self.schema = read_yaml(schema_file_path)\n",
    "\n",
    "    create_directory([self.config[\"artifacts\"][\"data_dir\"], self.config[\"artifacts\"][\"report_dir\"]])\n",
    "\n",
    "    def get_data_ingestion_config(self) -> DataIngestionConfig:\n",
    "        config = self.config.data_ingestion\n",
    "\n",
    "        create_directories([config.root_dir])\n",
    "        data_ingestion_config =DataIngestionConfig(\n",
    "            root_dir = Path(config.root_dir),\n",
    "            source_dir = config.source_dir,\n",
    "            local_data_file = Path(config.local_data_file),\n",
    "            uzir = Path(config.uzir)\n",
    "        )\n",
    "\n",
    "        return data_ingestion_config"
   ]
  },
  {
   "cell_type": "code",
   "execution_count": null,
   "metadata": {},
   "outputs": [],
   "source": [
    "import os\n",
    "import urllib.request as request\n",
    "import zipfile\n",
    "from mlproject import logger\n",
    "from mlproject.utils.common import get_size"
   ]
  },
  {
   "cell_type": "code",
   "execution_count": null,
   "metadata": {},
   "outputs": [],
   "source": [
    "class DataIngestion:\n",
    "    def__init__(self, config: DataIngestionConfig):\n",
    "        self.config = config\n",
    "\n",
    "    def download_data(self):\n",
    "        if not os.path.exists(self.config.root_dir):\n",
    "            filename,headers = request.urlretrieve(self.config.uzir, self.config.local_data_file)\n",
    "            logger.info(f\"{filename}\")\n",
    "\n",
    "            else:\n",
    "                logger.info(f\"Data already exists at {self.config.root_dir}\")\n",
    "\n",
    "    def extract_data(self):\n",
    "        with zipfile.ZipFile(self.config.local_data_file, 'r') as zip_ref:\n",
    "            zip_ref.extractall(self.config.root_dir)\n",
    "            logger.info(f\"Data extracted at {self.config.root_dir}\")"
   ]
  },
  {
   "cell_type": "code",
   "execution_count": null,
   "metadata": {},
   "outputs": [],
   "source": [
    "try:\n",
    "    config = ConfigurationManager()\n",
    "    data_ingestion_config = config.get_datad_ingestion_config()\n",
    "    data_ingestion.download_file(\n",
    "        data_ingestion.download_file()\n",
    "        data_ingestion.extract_zip_file()\n",
    "except Exception as e:\n",
    "    raise e\n",
    "    )"
   ]
  }
 ],
 "metadata": {
  "kernelspec": {
   "display_name": "Python 3",
   "language": "python",
   "name": "python3"
  },
  "language_info": {
   "codemirror_mode": {
    "name": "ipython",
    "version": 3
   },
   "file_extension": ".py",
   "mimetype": "text/x-python",
   "name": "python",
   "nbconvert_exporter": "python",
   "pygments_lexer": "ipython3",
   "version": "3.11.2"
  }
 },
 "nbformat": 4,
 "nbformat_minor": 2
}
